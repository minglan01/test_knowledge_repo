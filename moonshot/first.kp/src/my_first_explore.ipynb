{
 "cells": [
  {
   "cell_type": "raw",
   "metadata": {},
   "source": [
    "---\n",
    "title: Python in the Quantum World\n",
    "authors:\n",
    "- Rick Bahague\n",
    "tags:\n",
    "- Python\n",
    "- Physics\n",
    "- Scientific Computing\n",
    "created_at: 2016-09-22\n",
    "updated_at: 2016-11-06\n",
    "tldr: Jupyter-Notebook for the Python in Physics during the PythonPH Meetup\n",
    "path: thoughtleadership/python-quantum-world\n",
    "---"
   ]
  },
  {
   "cell_type": "code",
   "execution_count": null,
   "metadata": {},
   "outputs": [],
   "source": [
    "import plotly.offline as pyo\n",
    "import plotly.graph_objs as go\n",
    "import pandas as pd"
   ]
  },
  {
   "cell_type": "markdown",
   "metadata": {},
   "source": [
    "# let's plot"
   ]
  },
  {
   "cell_type": "code",
   "execution_count": null,
   "metadata": {},
   "outputs": [],
   "source": [
    "pyo.init_notebook_mode(connected=True)\n",
    "data = [go.Scatter(x=[1,2,3], y=[8,9,9], mode=\"marker\")]\n",
    "layout = go.Layout(title=\"test\")\n",
    "fig=go.Figure(data=data, layout=layout)\n",
    "pyo.iplot(fig)"
   ]
  },
  {
   "cell_type": "code",
   "execution_count": null,
   "metadata": {
    "collapsed": true
   },
   "outputs": [],
   "source": []
  }
 ],
 "metadata": {
  "kernelspec": {
   "display_name": "Python [conda env:ml_pipeline]",
   "language": "python",
   "name": "conda-env-ml_pipeline-py"
  },
  "language_info": {
   "codemirror_mode": {
    "name": "ipython",
    "version": 3
   },
   "file_extension": ".py",
   "mimetype": "text/x-python",
   "name": "python",
   "nbconvert_exporter": "python",
   "pygments_lexer": "ipython3",
   "version": "3.6.5"
  }
 },
 "nbformat": 4,
 "nbformat_minor": 2
}